{
 "cells": [
  {
   "cell_type": "code",
   "execution_count": 1,
   "metadata": {},
   "outputs": [
    {
     "name": "stderr",
     "output_type": "stream",
     "text": [
      "INFO | 2024-10-04 14:58:31,634 | Loaded response format: resume for conversation: None\n",
      "INFO | 2024-10-04 14:58:31,634 | Loaded preset: TEST_STRUCTURE for conversation: None\n",
      "INFO | 2024-10-04 14:58:31,634 | Created new conversation\n",
      "INFO | 2024-10-04 14:58:32,065 | Sending chat request using model: gpt-4o-2024-08-06\n",
      "INFO | 2024-10-04 14:58:45,921 | Received chat response in 13.86 seconds\n"
     ]
    },
    {
     "name": "stdout",
     "output_type": "stream",
     "text": [
      "Chat response received in 13.86 seconds\n"
     ]
    }
   ],
   "source": [
    "from Client import *\n",
    "from utils import *\n",
    "from Resume import *\n",
    "\n",
    "cc = chat_completion(preset_name=\"RESUME_STRUCTURE\")\n",
    "\n",
    "resume_string = extract_text_from_file(\"..\\\\uploads\\\\New Resume.pdf\")\n",
    "resume_json = json.loads(cc.chat(resume_string))\n",
    "resume = Resume.from_json(resume_json)"
   ]
  },
  {
   "cell_type": "code",
   "execution_count": 2,
   "metadata": {},
   "outputs": [
    {
     "data": {
      "text/plain": [
       "'603-402-0267'"
      ]
     },
     "execution_count": 2,
     "metadata": {},
     "output_type": "execute_result"
    }
   ],
   "source": [
    "resume.contact_details.phone"
   ]
  }
 ],
 "metadata": {
  "kernelspec": {
   "display_name": "HIRE",
   "language": "python",
   "name": "python3"
  },
  "language_info": {
   "codemirror_mode": {
    "name": "ipython",
    "version": 3
   },
   "file_extension": ".py",
   "mimetype": "text/x-python",
   "name": "python",
   "nbconvert_exporter": "python",
   "pygments_lexer": "ipython3",
   "version": "3.12.4"
  }
 },
 "nbformat": 4,
 "nbformat_minor": 2
}
