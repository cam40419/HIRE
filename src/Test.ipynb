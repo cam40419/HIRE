{
 "cells": [
  {
   "cell_type": "code",
   "execution_count": 1,
   "metadata": {},
   "outputs": [
    {
     "name": "stderr",
     "output_type": "stream",
     "text": [
      "INFO | 2024-10-04 13:27:19,929 | Loaded response format: resume for conversation: None\n",
      "INFO | 2024-10-04 13:27:19,929 | Loaded preset: TEST_STRUCTURE for conversation: None\n",
      "INFO | 2024-10-04 13:27:19,929 | Created new conversation\n",
      "INFO | 2024-10-04 13:27:19,929 | Sending chat request using model: gpt-4o-2024-08-06\n",
      "INFO | 2024-10-04 13:27:33,185 | Received chat response in 13.26 seconds\n"
     ]
    },
    {
     "name": "stdout",
     "output_type": "stream",
     "text": [
      "Chat response received in 13.26 seconds\n",
      "{\"name\": \"Cameron Douglas Robbins\", \"age\": null, \"contact_details\": {\"email\": \"cam40419@gmail.com\", \"phone\": \"603-402-0267\", \"address\": \"Worcester, MA\", \"linkedin\": \"www.linkedin.com/in/cameron-d-robbins\", \"github\": \"\", \"website\": \"\"}, \"summary\": \"Computer Science Student and Full-Stack Developer\", \"skills\": [{\"name\": \"Java\", \"proficiency\": \"Proficient\"}, {\"name\": \"Python\", \"proficiency\": \"Proficient\"}, {\"name\": \"C\", \"proficiency\": \"Proficient\"}, {\"name\": \"C#\", \"proficiency\": \"Proficient\"}, {\"name\": \"Go\", \"proficiency\": \"Proficient\"}, {\"name\": \"SQL\", \"proficiency\": \"Proficient\"}, {\"name\": \"R\", \"proficiency\": \"Intermediate\"}, {\"name\": \"JavaScript\", \"proficiency\": \"Intermediate\"}, {\"name\": \"HTML\", \"proficiency\": \"Intermediate\"}, {\"name\": \"Matlab\", \"proficiency\": \"Intermediate\"}, {\"name\": \"C++\", \"proficiency\": \"Intermediate\"}, {\"name\": \"React\", \"proficiency\": \"\"}, {\"name\": \"Node.js\", \"proficiency\": \"\"}, {\"name\": \"Django\", \"proficiency\": \"\"}, {\"name\": \"Git\", \"proficiency\": \"\"}, {\"name\": \"Docker\", \"proficiency\": \"\"}, {\"name\": \"Jupyter Notebook\", \"proficiency\": \"\"}], \"work_experience\": [{\"company\": \"Brigham and Women’s Hospital\", \"job_title\": \"Software Engineering Student\", \"location\": \"\", \"start_date\": \"03/2023\", \"end_date\": \"05/2023\", \"responsibilities\": [\"Led a project team developing a hospital employee management application using Java and SQL\", \"Engineered a live-updating database system for improved operational efficiency\"]}, {\"company\": \"FUNDECOR\", \"job_title\": \"Study Abroad Researcher\", \"location\": \"San Jose, Costa Rica\", \"start_date\": \"01/2024\", \"end_date\": \"03/2024\", \"responsibilities\": [\"Enhanced BIOTA program by creating detailed farm profiles using geospatial tools\", \"Conducted field research to assess biodiversity indicators\"]}, {\"company\": \"The MITRE Corporation\", \"job_title\": \"Systems Engineering Analytics Intern\", \"location\": \"\", \"start_date\": \"06/2019\", \"end_date\": \"09/2019\", \"responsibilities\": [\"Collaborated on developing a live AI assistant for meeting scheduling and navigation\", \"Authored a research guide on AI models and NLP systems\"]}], \"education\": [{\"institution\": \"Worcester Polytechnic Institute\", \"degree\": \"Bachelor of Science\", \"field_of_study\": \"Computer Science\", \"start_date\": \"\", \"end_date\": \"2025\", \"gpa\": 3.6}], \"projects\": [{\"title\": \"Customizable Translation Pipeline\", \"description\": \"Developed advanced NLP methods for translating technical documents from Chinese and German to English.\", \"technologies_used\": [\"Python\"], \"start_date\": \"05/2021\", \"end_date\": \"08/2021\", \"github_link\": \"\", \"live_demo\": \"\"}, {\"title\": \"API Client for Vulnerability Pipeline\", \"description\": \"Developed a web-based client to analyze and enhance non-traditional data, improving data usability.\", \"technologies_used\": [\"\"], \"start_date\": \"05/2022\", \"end_date\": \"08/2022\", \"github_link\": \"\", \"live_demo\": \"\"}, {\"title\": \"Non-Traditional Data Analysis Tool\", \"description\": \"Created a Jupyter notebook for analyzing cyber data with advanced visualizations.\", \"technologies_used\": [\"Jupyter\"], \"start_date\": \"05/2023\", \"end_date\": \"05/2024\", \"github_link\": \"\", \"live_demo\": \"\"}, {\"title\": \"TACIT - Tracking Advanced Cyber Infrastructure Threats\", \"description\": \"Developed a cyber threat analysis tool to assess and mitigate cyber risks.\", \"technologies_used\": [\"Python\"], \"start_date\": \"05/2024\", \"end_date\": \"09/2024\", \"github_link\": \"\", \"live_demo\": \"\"}], \"certifications\": [], \"hobbies\": [], \"languages\": []}\n"
     ]
    }
   ],
   "source": [
    "from src.Client import *\n",
    "cc = chat_completion(preset_name=\"TEST_STRUCTURE\")\n",
    "\n",
    "print(cc.chat(\"Cameron Douglas Robbins\\nWorcester, MA | 603-402-0267 | cam40419@gmail.com | www.linkedin.com/in/cameron-d-robbins\\nComputer Science Student and Full-Stack Developer\\nProgramming Languages:\\nProficient: Java, Python, C, C#, Go, SQL\\nIntermediate: R, JavaScript, HTML, Matlab, C++\\nDevelopment Tools and Technologies:\\nDatabases: SQL, Neo4j\\nFrameworks & Libraries: React, Node.js, Django\\nTools: Git, Docker, Jupyter Notebook\\nDomain Knowledge:\\nMachine Learning\\nArtificial Intelligence\\nData Science\\nCybersecurity\\nFrontend Development |Backend Development | Database Systems | Web Design | Project Management | Technical Problem Solving\\nBachelor of Science in Computer Science, Worcester Polytechnic Institute, GPA: 3.6, 2025\\nSoftware Engineering | CS3733 - Wilson Wong  03/2023 - 05/2023\\nLed a project team of ten students through the development of a hospital employee management application for the Brigham and Women’s Hospital using java and sql.\\nEngineered a live-updating database system to streamline appointment reservations, room navigation, calendar management, and instant messaging between hospital employees. This system significantly improved operational efficiency and communication within the hospital, enhancing overall productivity and patient care.\\nStudy Abroad Research Project | San Jose, Costa Rica  01/2024 - 03/2024\\nEnhanced FUNDECOR's BIOTA program by creating detailed profiles for five small farms and integrating them into the Geospatial Tools map. This integration highlighted the environmental and economic impacts of each farm, providing valuable insights for stakeholders.\\nConducted extensive field research and interviews to assess biodiversity indicators. Developed comprehensive farm profiles that promote sustainable farming practices and conservation efforts, contributing to the preservation of Costa Rica's rich biodiversity and supporting local agricultural communities.\\nSystems Engineering Analytics Intern | The MITRE Corporation\\nArtificial Intelligence Assistant 06/2019 - 09/2019\\nCollaborated with IBM and Unity to develop a live artificial intelligence assistant designed to function as a meeting scheduler and building navigation guide for on-site use at MITRE facilities. This assistant enhanced operational efficiency and user experience within the organization.\\nAuthored an extensive research guide on utilizing AI models and Natural Language Processing (NLP) systems for data analysis and transformation. This guide provided valuable insights and best practices, contributing to the advancement of AI and NLP applications.\\nCustomizable Translation Pipeline 05/2021 – 08/2021\\nDeveloped advanced methods for leveraging Natural Language Processing (NLP) models to translate highly technical documents from Chinese and German to English, ensuring high accuracy and context preservation.\\nBuilt a Python-based web server that utilizes NLP models to perform accurate translations of highly technical documents. This solution significantly improved the accessibility and comprehension of complex technical information across language barriers.\\nAPI Client for Vulnerability Pipeline 05/2022 – 08/2022\\nDeveloped a configurable web-based client to analyze and enhance non-traditional, unnormalized web-scraped data for commercial use. This client improved data quality and usability, facilitating more accurate and actionable insights for end-users.\\nDesigned a universal structure for vulnerability data pivots, standardizing the way vulnerability information is processed and visualized. This innovation enhanced the consistency and reliability of vulnerability assessments across various datasets and applications.\\nNon-Traditional Data Analysis Tool 05/2023 – 05/2024\\nDeveloped a comprehensive Jupyter notebook for analyzing cyber data related to organizations, IPs, domains, CPEs, and CVEs. Implemented advanced visualizations to highlight vulnerabilities, significantly streamlining initial analysis time and improving threat detection efficiency.\\nDesigned and implemented modules for single organization search, mapping connections, viewing graph layouts, and filtering transactions. These modules provided comprehensive insights into organizational cyber relationships and security, enabling more effective and informed decision-making.\\nTACIT - Tracking Advanced Cyber Infrastructure Threats 05/2024 – 09/2024\\nDeveloped a sophisticated cyber threat analysis tool to track advanced cyber threats, assess their threat levels, identify effective countermeasures, and highlight connections to other threats. This tool significantly enhanced the ability to proactively manage and mitigate cyber risks.\\nCreated a versatile Python library to track threats and visualize their pivots to similar organizations, services, and assets. This library provided a powerful resource for secularity, enabling more effective threat detection and response strategies.\\n\"))"
   ]
  },
  {
   "cell_type": "code",
   "execution_count": 1,
   "metadata": {},
   "outputs": [
    {
     "name": "stderr",
     "output_type": "stream",
     "text": [
      "INFO | 2024-10-04 13:29:07,965 | Loaded preset: DEFAULT for conversation: None\n",
      "INFO | 2024-10-04 13:29:07,973 | Created new conversation\n",
      "INFO | 2024-10-04 13:29:07,973 | Sending chat request using model: gpt-4-1106-preview\n",
      "INFO | 2024-10-04 13:29:09,238 | Received chat response in 1.27 seconds\n"
     ]
    },
    {
     "name": "stdout",
     "output_type": "stream",
     "text": [
      "Chat response received in 1.27 seconds\n"
     ]
    },
    {
     "data": {
      "text/plain": [
       "'How can I assist you today? If you have any questions or need help with something, feel free to ask!'"
      ]
     },
     "execution_count": 1,
     "metadata": {},
     "output_type": "execute_result"
    }
   ],
   "source": [
    "from Client import *\n",
    "chat = chat_completion()\n",
    "chat.chat(\"Testing...\")"
   ]
  },
  {
   "cell_type": "code",
   "execution_count": 2,
   "metadata": {},
   "outputs": [
    {
     "name": "stderr",
     "output_type": "stream",
     "text": [
      "INFO | 2024-10-04 13:29:09,903 | Saved conversation: test\n"
     ]
    },
    {
     "name": "stdout",
     "output_type": "stream",
     "text": [
      "Conversation saved as: test\n"
     ]
    }
   ],
   "source": [
    "chat.save_conversation(\"test\")"
   ]
  },
  {
   "cell_type": "code",
   "execution_count": 3,
   "metadata": {},
   "outputs": [
    {
     "name": "stderr",
     "output_type": "stream",
     "text": [
      "INFO | 2024-10-04 13:29:12,463 | Loaded preset: DEFAULT for conversation: test\n",
      "INFO | 2024-10-04 13:29:12,463 | Conversation: test loaded\n"
     ]
    },
    {
     "name": "stdout",
     "output_type": "stream",
     "text": [
      "Loaded conversation: test\n"
     ]
    }
   ],
   "source": [
    "chat = load_conversation(\"test\")"
   ]
  }
 ],
 "metadata": {
  "kernelspec": {
   "display_name": "openai",
   "language": "python",
   "name": "python3"
  },
  "language_info": {
   "codemirror_mode": {
    "name": "ipython",
    "version": 3
   },
   "file_extension": ".py",
   "mimetype": "text/x-python",
   "name": "python",
   "nbconvert_exporter": "python",
   "pygments_lexer": "ipython3",
   "version": "3.12.4"
  }
 },
 "nbformat": 4,
 "nbformat_minor": 2
}
